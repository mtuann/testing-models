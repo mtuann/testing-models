{
 "cells": [
  {
   "cell_type": "code",
   "execution_count": 1,
   "metadata": {},
   "outputs": [],
   "source": [
    "\n",
    "import numpy as np\n",
    "import argparse\n",
    "import os\n",
    "\n",
    "    "
   ]
  },
  {
   "cell_type": "code",
   "execution_count": null,
   "metadata": {},
   "outputs": [],
   "source": [
    "# set fix random seed\n",
    "np.random.seed(0)\n",
    "\n",
    "def generate_data(N, F, output_dir):\n",
    "    if not os.path.exists(output_dir):\n",
    "        os.makedirs(output_dir)\n",
    "    # generate random data by gaussian distribution\n",
    "    # generate numpy data with size (N, F) where N is the number of samples and F is the number of features\n",
    "    data = np.random.randn(N, F)\n",
    "    # generate random label by uniform distribution\n",
    "    # generate numpy label with size (N, 1) where N is the number of samples, label in range [0, 1, 2, 3, 4]\n",
    "    n_label = 5\n",
    "    label = np.random.randint(n_label, size=(N, 1))\n",
    "    # save data and label to file\n",
    "    import pickle\n",
    "    \n",
    "    # dump data with key \"data\" and label with key \"label\" to file .pkl\n",
    "    with open(os.path.join(output_dir, \"data.pkl\"), \"wb\") as f:\n",
    "        pickle.dump({\"data\": data, \"label\": label}, f)\n",
    "    return data, label\n",
    "\n",
    "    \n",
    "    \n",
    "    \n",
    "data = generate_data(100, 10, \"./data\")\n"
   ]
  }
 ],
 "metadata": {
  "kernelspec": {
   "display_name": "Python 3",
   "language": "python",
   "name": "python3"
  },
  "language_info": {
   "codemirror_mode": {
    "name": "ipython",
    "version": 3
   },
   "file_extension": ".py",
   "mimetype": "text/x-python",
   "name": "python",
   "nbconvert_exporter": "python",
   "pygments_lexer": "ipython3",
   "version": "3.9.16"
  }
 },
 "nbformat": 4,
 "nbformat_minor": 2
}
