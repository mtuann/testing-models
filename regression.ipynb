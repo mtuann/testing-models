{
 "cells": [
  {
   "cell_type": "code",
   "execution_count": 11,
   "metadata": {},
   "outputs": [
    {
     "name": "stdout",
     "output_type": "stream",
     "text": [
      "True Coefficients:\n",
      " [[ 0.44258214]\n",
      " [-0.21900019]\n",
      " [ 0.37937669]\n",
      " [-0.09577986]\n",
      " [-0.48766456]\n",
      " [-0.64479223]\n",
      " [ 1.2596062 ]\n",
      " [ 0.32055081]\n",
      " [ 1.28429229]\n",
      " [ 1.18008075]]\n",
      "\n",
      "Calculated Coefficients using Pseudo-inverse:\n",
      " [[ 0.67562934]\n",
      " [ 0.12176695]\n",
      " [-0.17818586]\n",
      " [ 0.06077704]\n",
      " [-0.10280442]\n",
      " [ 0.31218516]\n",
      " [ 1.57302235]\n",
      " [-0.5771026 ]\n",
      " [ 1.61494604]\n",
      " [ 0.8893342 ]]\n",
      "\n",
      "Bias Value:\n",
      " [0.21111336]\n"
     ]
    }
   ],
   "source": [
    "import numpy as np\n",
    "\n",
    "# Number of samples and features\n",
    "N = 1000\n",
    "F = 10\n",
    "\n",
    "# Generate synthetic data\n",
    "data = np.random.randn(N, F)\n",
    "\n",
    "# Generate coefficients for the linear relationship between data and regression values\n",
    "true_coefficients = np.random.randn(F, 1)  # Generating random coefficients\n",
    "\n",
    "# Generate regression values using the linear relationship: regression_values = data * coefficients + noise\n",
    "noise = np.random.randn(N, 1) * 10  # Adding Gaussian noise to the output\n",
    "regression_values = np.dot(data, true_coefficients) + noise\n",
    "\n",
    "# Add a column of ones to the data matrix for the bias term\n",
    "data_with_bias = np.hstack((data, np.ones((N, 1))))\n",
    "\n",
    "# Calculate coefficients (including the bias term) using the pseudo-inverse\n",
    "calculated_coefficients_with_bias = np.dot(np.linalg.pinv(data_with_bias), regression_values)\n",
    "\n",
    "# Extract coefficients (excluding the bias term) and the bias value separately\n",
    "calculated_coefficients = calculated_coefficients_with_bias[:-1]  # Extract coefficients\n",
    "bias_value = calculated_coefficients_with_bias[-1]  # Extract the bias value\n",
    "\n",
    "# Print the true coefficients, calculated coefficients, and bias value\n",
    "print(\"True Coefficients:\\n\", true_coefficients)\n",
    "print(\"\\nCalculated Coefficients using Pseudo-inverse:\\n\", calculated_coefficients)\n",
    "print(\"\\nBias Value:\\n\", bias_value)\n"
   ]
  },
  {
   "cell_type": "code",
   "execution_count": 16,
   "metadata": {},
   "outputs": [
    {
     "data": {
      "text/plain": [
       "((1000, 10), (1000, 1))"
      ]
     },
     "execution_count": 16,
     "metadata": {},
     "output_type": "execute_result"
    }
   ],
   "source": [
    "data.shape, regression_values.shape"
   ]
  },
  {
   "cell_type": "code",
   "execution_count": 17,
   "metadata": {},
   "outputs": [],
   "source": [
    "import torch\n",
    "import torch.nn as nn\n",
    "import torch.optim as optim\n",
    "import numpy as np\n",
    "from torch.utils.data import DataLoader, TensorDataset"
   ]
  },
  {
   "cell_type": "code",
   "execution_count": 18,
   "metadata": {},
   "outputs": [],
   "source": [
    "# Convert NumPy arrays to PyTorch tensors\n",
    "data_tensor = torch.tensor(data, dtype=torch.float32)\n",
    "regression_tensor = torch.tensor(regression_values, dtype=torch.float32)\n",
    "\n",
    "# Create a TensorDataset\n",
    "dataset = TensorDataset(data_tensor, regression_tensor)\n",
    "\n",
    "# Set batch size for training\n",
    "batch_size = 32\n",
    "\n",
    "# Create a DataLoader\n",
    "train_loader = DataLoader(dataset, batch_size=batch_size, shuffle=True)\n"
   ]
  },
  {
   "cell_type": "code",
   "execution_count": 118,
   "metadata": {},
   "outputs": [
    {
     "name": "stderr",
     "output_type": "stream",
     "text": [
      "/work/hpc/vinhpt/envs/thyroid-detection/lib/python3.9/site-packages/torch/nn/_reduction.py:42: UserWarning: size_average and reduce args will be deprecated, please use reduction='mean' instead.\n",
      "  warnings.warn(warning.format(ret))\n"
     ]
    }
   ],
   "source": [
    "# Define a neural network with one fully connected layer for regression\n",
    "class FullyConnectedRegressor(nn.Module):\n",
    "    def __init__(self, input_size, output_size):\n",
    "        super(FullyConnectedRegressor, self).__init__()\n",
    "        self.fc = nn.Linear(input_size, output_size)\n",
    "\n",
    "    def forward(self, x):\n",
    "        x = self.fc(x)\n",
    "        return x\n",
    "\n",
    "# Hyperparameters\n",
    "input_size = F  # Number of features\n",
    "output_size = 1  # Regression output\n",
    "\n",
    "learning_rate = 0.001\n",
    "num_epochs = 10\n",
    "\n",
    "# Creating an instance of the regressor\n",
    "regressor = FullyConnectedRegressor(input_size, output_size)\n",
    "# set random seed\n",
    "torch.manual_seed(42)\n",
    "torch.cuda.manual_seed(42)\n",
    "torch.cuda.manual_seed_all(42)\n",
    "\n",
    "\n",
    "# init weights with xavier\n",
    "def init_weights(m):\n",
    "    if type(m) == nn.Linear:\n",
    "        torch.nn.init.xavier_uniform_(m.weight)\n",
    "        m.bias.data.fill_(0.01)\n",
    "        \n",
    "regressor.apply(init_weights)\n",
    "\n",
    "# Define loss function and optimizer for regression (MSELoss for regression task)\n",
    "criterion = nn.MSELoss(reduce='mean')\n",
    "optimizer = optim.Adam(regressor.parameters(), lr=learning_rate)"
   ]
  },
  {
   "cell_type": "code",
   "execution_count": 119,
   "metadata": {},
   "outputs": [
    {
     "name": "stdout",
     "output_type": "stream",
     "text": [
      "Epoch [1/100] with Loss: 109.3699\n",
      "Epoch [2/100] with Loss: 108.2045\n",
      "Epoch [3/100] with Loss: 109.9667\n",
      "Epoch [4/100] with Loss: 109.5642\n",
      "Epoch [5/100] with Loss: 107.8697\n",
      "Epoch [6/100] with Loss: 109.3603\n",
      "Epoch [7/100] with Loss: 109.3431\n",
      "Epoch [8/100] with Loss: 109.0389\n",
      "Epoch [9/100] with Loss: 110.5721\n",
      "Epoch [10/100] with Loss: 107.2759\n",
      "Epoch [11/100] with Loss: 107.2781\n",
      "Epoch [12/100] with Loss: 109.4448\n",
      "Epoch [13/100] with Loss: 107.1666\n",
      "Epoch [14/100] with Loss: 108.4692\n",
      "Epoch [15/100] with Loss: 107.0181\n",
      "Epoch [16/100] with Loss: 107.1074\n",
      "Epoch [17/100] with Loss: 107.2736\n",
      "Epoch [18/100] with Loss: 106.6659\n",
      "Epoch [19/100] with Loss: 107.2884\n",
      "Epoch [20/100] with Loss: 105.8163\n",
      "Epoch [21/100] with Loss: 108.4758\n",
      "Epoch [22/100] with Loss: 109.3411\n",
      "Epoch [23/100] with Loss: 106.3535\n",
      "Epoch [24/100] with Loss: 105.8666\n",
      "Epoch [25/100] with Loss: 105.6219\n",
      "Epoch [26/100] with Loss: 104.7178\n",
      "Epoch [27/100] with Loss: 105.0928\n",
      "Epoch [28/100] with Loss: 106.0195\n",
      "Epoch [29/100] with Loss: 105.8145\n",
      "Epoch [30/100] with Loss: 104.3243\n",
      "Epoch [31/100] with Loss: 107.5731\n",
      "Epoch [32/100] with Loss: 104.6091\n",
      "Epoch [33/100] with Loss: 105.6315\n",
      "Epoch [34/100] with Loss: 105.3393\n",
      "Epoch [35/100] with Loss: 104.2548\n",
      "Epoch [36/100] with Loss: 104.9667\n",
      "Epoch [37/100] with Loss: 105.1706\n",
      "Epoch [38/100] with Loss: 105.3965\n",
      "Epoch [39/100] with Loss: 103.1078\n",
      "Epoch [40/100] with Loss: 106.4926\n",
      "Epoch [41/100] with Loss: 102.9954\n",
      "Epoch [42/100] with Loss: 102.4508\n",
      "Epoch [43/100] with Loss: 106.0887\n",
      "Epoch [44/100] with Loss: 105.2245\n",
      "Epoch [45/100] with Loss: 103.0118\n",
      "Epoch [46/100] with Loss: 104.8533\n",
      "Epoch [47/100] with Loss: 105.0893\n",
      "Epoch [48/100] with Loss: 105.2322\n",
      "Epoch [49/100] with Loss: 103.7758\n",
      "Epoch [50/100] with Loss: 104.2697\n",
      "Epoch [51/100] with Loss: 103.4496\n",
      "Epoch [52/100] with Loss: 105.1741\n",
      "Epoch [53/100] with Loss: 103.5988\n",
      "Epoch [54/100] with Loss: 103.2839\n",
      "Epoch [55/100] with Loss: 104.0653\n",
      "Epoch [56/100] with Loss: 103.5807\n",
      "Epoch [57/100] with Loss: 102.7070\n",
      "Epoch [58/100] with Loss: 101.8079\n",
      "Epoch [59/100] with Loss: 102.1176\n",
      "Epoch [60/100] with Loss: 103.4870\n",
      "Epoch [61/100] with Loss: 102.8698\n",
      "Epoch [62/100] with Loss: 104.5534\n",
      "Epoch [63/100] with Loss: 102.4104\n",
      "Epoch [64/100] with Loss: 104.1229\n",
      "Epoch [65/100] with Loss: 104.2126\n",
      "Epoch [66/100] with Loss: 105.1588\n",
      "Epoch [67/100] with Loss: 101.4463\n",
      "Epoch [68/100] with Loss: 101.6609\n",
      "Epoch [69/100] with Loss: 101.8384\n",
      "Epoch [70/100] with Loss: 103.1847\n",
      "Epoch [71/100] with Loss: 108.2111\n",
      "Epoch [72/100] with Loss: 103.2062\n",
      "Epoch [73/100] with Loss: 103.9056\n",
      "Epoch [74/100] with Loss: 102.1722\n",
      "Epoch [75/100] with Loss: 102.3075\n",
      "Epoch [76/100] with Loss: 104.0705\n",
      "Epoch [77/100] with Loss: 102.7963\n",
      "Epoch [78/100] with Loss: 102.4515\n",
      "Epoch [79/100] with Loss: 101.0966\n",
      "Epoch [80/100] with Loss: 102.5854\n",
      "Epoch [81/100] with Loss: 103.0045\n",
      "Epoch [82/100] with Loss: 102.9121\n",
      "Epoch [83/100] with Loss: 102.1114\n",
      "Epoch [84/100] with Loss: 102.8734\n",
      "Epoch [85/100] with Loss: 101.6571\n",
      "Epoch [86/100] with Loss: 101.1264\n",
      "Epoch [87/100] with Loss: 100.6433\n",
      "Epoch [88/100] with Loss: 103.9190\n",
      "Epoch [89/100] with Loss: 102.5371\n",
      "Epoch [90/100] with Loss: 104.7496\n",
      "Epoch [91/100] with Loss: 101.9996\n",
      "Epoch [92/100] with Loss: 101.3202\n",
      "Epoch [93/100] with Loss: 101.4244\n",
      "Epoch [94/100] with Loss: 100.8094\n",
      "Epoch [95/100] with Loss: 102.0732\n",
      "Epoch [96/100] with Loss: 105.0795\n",
      "Epoch [97/100] with Loss: 103.8294\n",
      "Epoch [98/100] with Loss: 102.8272\n",
      "Epoch [99/100] with Loss: 102.8222\n",
      "Epoch [100/100] with Loss: 103.6716\n",
      "Training finished\n"
     ]
    }
   ],
   "source": [
    "num_epochs = 100\n",
    "\n",
    "# Training loop\n",
    "for epoch in range(num_epochs):\n",
    "    running_loss = 0.0\n",
    "    for i, (inputs, targets) in enumerate(train_loader, 0):\n",
    "        # Zero the parameter gradients\n",
    "        optimizer.zero_grad()\n",
    "\n",
    "        # Forward pass\n",
    "        outputs = regressor(inputs)\n",
    "\n",
    "        # Calculate loss\n",
    "        loss = criterion(outputs, targets)\n",
    "\n",
    "        # Backward pass and optimize\n",
    "        loss.backward()\n",
    "        optimizer.step()\n",
    "\n",
    "        running_loss += loss.item()\n",
    "\n",
    "    print(f\"Epoch [{epoch + 1}/{num_epochs}] with Loss: {running_loss/ len(train_loader):.4f}\")\n",
    "\n",
    "print(\"Training finished\")\n"
   ]
  },
  {
   "cell_type": "code",
   "execution_count": 120,
   "metadata": {},
   "outputs": [
    {
     "name": "stdout",
     "output_type": "stream",
     "text": [
      "\n",
      "MSE between prediction values and true regression values using coefficients learned by the neural network: 102.41550450312357\n",
      "\n",
      "MSE between prediction values and true regression values using coefficients learned by the neural network: 102.41549682617188\n",
      "\n",
      "MSE between prediction values and true regression values using calculated coefficients: 102.04394509348968\n"
     ]
    }
   ],
   "source": [
    "# Print MSE between prediction values and true regression values using coefficients learned by the neural network\n",
    "prediction_values = regressor(data_tensor).detach().numpy()\n",
    "mse = np.mean((prediction_values - regression_values) ** 2)\n",
    "print(\"\\nMSE between prediction values and true regression values using coefficients learned by the neural network:\", mse)\n",
    "mse = criterion(torch.tensor(prediction_values), regression_tensor).item()\n",
    "print(\"\\nMSE between prediction values and true regression values using coefficients learned by the neural network:\", mse)\n",
    "\n",
    "# Print MSE between prediction values and true regression values using calculated coefficients\n",
    "prediction_values = np.dot(data_with_bias, calculated_coefficients_with_bias)\n",
    "mse = np.mean((prediction_values - regression_values) ** 2)\n",
    "print(\"\\nMSE between prediction values and true regression values using calculated coefficients:\", mse)"
   ]
  },
  {
   "cell_type": "code",
   "execution_count": 121,
   "metadata": {},
   "outputs": [
    {
     "name": "stdout",
     "output_type": "stream",
     "text": [
      "OrderedDict([('fc.weight', tensor([[ 0.6554,  0.1635, -0.1381,  0.1643, -0.1126,  0.2285,  1.0940, -0.3826,\n",
      "          1.4799,  0.6064]])), ('fc.bias', tensor([0.1666]))])\n"
     ]
    }
   ],
   "source": [
    "print(regressor.state_dict())"
   ]
  },
  {
   "cell_type": "code",
   "execution_count": 114,
   "metadata": {},
   "outputs": [
    {
     "name": "stdout",
     "output_type": "stream",
     "text": [
      "True Coefficients:\n",
      " [[ 0.44258214]\n",
      " [-0.21900019]\n",
      " [ 0.37937669]\n",
      " [-0.09577986]\n",
      " [-0.48766456]\n",
      " [-0.64479223]\n",
      " [ 1.2596062 ]\n",
      " [ 0.32055081]\n",
      " [ 1.28429229]\n",
      " [ 1.18008075]]\n",
      "\n",
      "Calculated Coefficients using Pseudo-inverse:\n",
      " [[ 0.67562934]\n",
      " [ 0.12176695]\n",
      " [-0.17818586]\n",
      " [ 0.06077704]\n",
      " [-0.10280442]\n",
      " [ 0.31218516]\n",
      " [ 1.57302235]\n",
      " [-0.5771026 ]\n",
      " [ 1.61494604]\n",
      " [ 0.8893342 ]]\n",
      "\n",
      "Bias Value:\n",
      " [0.21111336]\n"
     ]
    }
   ],
   "source": [
    "print(\"True Coefficients:\\n\", true_coefficients)\n",
    "print(\"\\nCalculated Coefficients using Pseudo-inverse:\\n\", calculated_coefficients)\n",
    "print(\"\\nBias Value:\\n\", bias_value)"
   ]
  }
 ],
 "metadata": {
  "kernelspec": {
   "display_name": "Python 3",
   "language": "python",
   "name": "python3"
  },
  "language_info": {
   "codemirror_mode": {
    "name": "ipython",
    "version": 3
   },
   "file_extension": ".py",
   "mimetype": "text/x-python",
   "name": "python",
   "nbconvert_exporter": "python",
   "pygments_lexer": "ipython3",
   "version": "3.9.16"
  }
 },
 "nbformat": 4,
 "nbformat_minor": 2
}
