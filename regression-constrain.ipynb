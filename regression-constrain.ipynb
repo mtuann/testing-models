{
 "cells": [
  {
   "cell_type": "code",
   "execution_count": 1,
   "metadata": {},
   "outputs": [],
   "source": [
    "import torch\n",
    "import torch.nn as nn\n",
    "import torch.optim as optim\n",
    "from torch.utils.data import DataLoader, TensorDataset\n",
    "\n",
    "# Define a custom neural network with one fully connected layer\n",
    "class FullyConnectedRegressor(nn.Module):\n",
    "    def __init__(self, input_size, output_size):\n",
    "        super(FullyConnectedRegressor, self).__init__()\n",
    "        self.fc = nn.Linear(input_size, output_size)\n",
    "\n",
    "    def forward(self, x):\n",
    "        x = self.fc(x)\n",
    "        return x\n",
    "\n",
    "# Function to initialize weights within the range (0, 1)\n",
    "def initialize_weights(model):\n",
    "    for param in model.parameters():\n",
    "        nn.init.uniform_(param.data, a=0, b=1)\n",
    "\n",
    "# Function to update weights within the range (0, 1)\n",
    "def update_weights(model, learning_rate):\n",
    "    for param in model.parameters():\n",
    "        noise = torch.empty_like(param.data).uniform_(-0.1, 0.1) * learning_rate\n",
    "        param.data.add_(noise)\n",
    "        param.data.clamp_(0, 1)\n",
    "\n"
   ]
  },
  {
   "cell_type": "code",
   "execution_count": 3,
   "metadata": {},
   "outputs": [],
   "source": [
    "\n",
    "# Generate synthetic data for training\n",
    "N = 1000\n",
    "F = 10\n",
    "data = torch.randn(N, F)\n",
    "true_weights = torch.rand(F, 1)  # True weights in the range (0, 1)\n",
    "noise = torch.randn(N, 1) * 0.1\n",
    "regression_values = torch.mm(data, true_weights) + noise\n",
    "\n",
    "# Create a DataLoader for the training dataset\n",
    "dataset = TensorDataset(data, regression_values)\n",
    "train_loader = DataLoader(dataset, batch_size=32, shuffle=True)\n",
    "\n",
    "# Define input and output sizes\n",
    "input_size = F  # Example input size\n",
    "output_size = 1  # Example output size\n",
    "\n",
    "# Create an instance of the FullyConnectedRegressor model\n",
    "model = FullyConnectedRegressor(input_size, output_size)\n",
    "\n",
    "# Initialize weights within the range (0, 1)\n",
    "initialize_weights(model)\n",
    "\n",
    "# Define loss function and optimizer\n",
    "criterion = nn.MSELoss()\n",
    "optimizer = optim.SGD(model.parameters(), lr=0.01)\n",
    "\n"
   ]
  },
  {
   "cell_type": "code",
   "execution_count": 4,
   "metadata": {},
   "outputs": [
    {
     "name": "stdout",
     "output_type": "stream",
     "text": [
      "Epoch [1/10] with Loss: 2.2116\n",
      "Epoch [2/10] with Loss: 0.6271\n",
      "Epoch [3/10] with Loss: 0.1806\n",
      "Epoch [4/10] with Loss: 0.0591\n",
      "Epoch [5/10] with Loss: 0.0248\n",
      "Epoch [6/10] with Loss: 0.0138\n",
      "Epoch [7/10] with Loss: 0.0113\n",
      "Epoch [8/10] with Loss: 0.0104\n",
      "Epoch [9/10] with Loss: 0.0101\n",
      "Epoch [10/10] with Loss: 0.0101\n",
      "Training finished\n"
     ]
    }
   ],
   "source": [
    "# Training loop\n",
    "num_epochs = 10\n",
    "for epoch in range(num_epochs):\n",
    "    running_loss = 0.0\n",
    "    for i, (inputs, targets) in enumerate(train_loader, 0):\n",
    "        # Zero the parameter gradients\n",
    "        optimizer.zero_grad()\n",
    "\n",
    "        # Forward pass\n",
    "        outputs = model(inputs)\n",
    "\n",
    "        # Calculate loss\n",
    "        loss = criterion(outputs, targets)\n",
    "\n",
    "        # Backward pass and optimize\n",
    "        loss.backward()\n",
    "        optimizer.step()\n",
    "\n",
    "        # Update weights within the range (0, 1)\n",
    "        update_weights(model, learning_rate=0.01)\n",
    "\n",
    "        # Print statistics\n",
    "        running_loss += loss.item()\n",
    "        \n",
    "    print(f\"Epoch [{epoch + 1}/{num_epochs}] with Loss: {running_loss/ len(train_loader):.4f}\")\n",
    "\n",
    "print(\"Training finished\")"
   ]
  },
  {
   "cell_type": "code",
   "execution_count": 5,
   "metadata": {},
   "outputs": [
    {
     "data": {
      "text/plain": [
       "OrderedDict([('fc.weight',\n",
       "              tensor([[0.3657, 0.8729, 0.8560, 0.0458, 0.3583, 0.8094, 0.8773, 0.5967, 0.4811,\n",
       "                       0.5718]])),\n",
       "             ('fc.bias', tensor([0.0042]))])"
      ]
     },
     "execution_count": 5,
     "metadata": {},
     "output_type": "execute_result"
    }
   ],
   "source": [
    "model.state_dict()"
   ]
  },
  {
   "cell_type": "code",
   "execution_count": 6,
   "metadata": {},
   "outputs": [
    {
     "name": "stdout",
     "output_type": "stream",
     "text": [
      "Clipped Predictions within the range [0, 100]:\n",
      " tensor([[0.0000],\n",
      "        [0.0000],\n",
      "        [0.0000],\n",
      "        [0.0000],\n",
      "        [0.4382],\n",
      "        [0.0000],\n",
      "        [1.5396],\n",
      "        [0.0000],\n",
      "        [0.0000],\n",
      "        [0.0000]])\n"
     ]
    }
   ],
   "source": [
    "# Generate inference data (replace this with your actual inference data)\n",
    "inference_data = torch.randn(10, 10)  # Example inference data\n",
    "\n",
    "# Perform inference\n",
    "model.eval()  # Set the model to evaluation mode\n",
    "with torch.no_grad():\n",
    "    # Forward pass to get predictions\n",
    "    predictions = model(inference_data)\n",
    "\n",
    "# Clip predictions within the range [0, 100]\n",
    "clipped_predictions = torch.clamp(predictions, 0, 100)\n",
    "\n",
    "print(\"Clipped Predictions within the range [0, 100]:\\n\", clipped_predictions)"
   ]
  },
  {
   "cell_type": "code",
   "execution_count": null,
   "metadata": {},
   "outputs": [],
   "source": []
  }
 ],
 "metadata": {
  "kernelspec": {
   "display_name": "Python 3",
   "language": "python",
   "name": "python3"
  },
  "language_info": {
   "codemirror_mode": {
    "name": "ipython",
    "version": 3
   },
   "file_extension": ".py",
   "mimetype": "text/x-python",
   "name": "python",
   "nbconvert_exporter": "python",
   "pygments_lexer": "ipython3",
   "version": "3.9.16"
  }
 },
 "nbformat": 4,
 "nbformat_minor": 2
}
